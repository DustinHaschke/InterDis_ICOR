{
  "cells": [
    {
      "cell_type": "markdown",
      "metadata": {
        "id": "view-in-github",
        "colab_type": "text"
      },
      "source": [
        "<a href=\"https://colab.research.google.com/github/DustinHaschke/InterDis_ICOR/blob/main/ICOR_InterDis_Dustin_Haschke.ipynb\" target=\"_parent\"><img src=\"https://colab.research.google.com/assets/colab-badge.svg\" alt=\"Open In Colab\"/></a>"
      ]
    },
    {
      "cell_type": "markdown",
      "metadata": {
        "id": "usX6lYDQ8qgH"
      },
      "source": [
        "####Optionaler Code für Bilddownloads"
      ]
    },
    {
      "cell_type": "code",
      "execution_count": null,
      "metadata": {
        "id": "UYva8Nu01REz"
      },
      "outputs": [],
      "source": [
        "#pip install kaleido\n",
        "#!pip uninstall ploty !pip install plotly==5.3.1 import plotly import kaleido\n",
        "\n",
        "\n",
        "!pip install kaleido\n",
        "import kaleido #required\n",
        "kaleido.__version__ #0.2.1\n",
        "\n",
        "import plotly\n",
        "plotly.__version__ #5.5.0\n",
        "\n",
        "#now this works:\n",
        "import plotly.graph_objects as go\n",
        "\n",
        "import kaleido"
      ]
    },
    {
      "cell_type": "markdown",
      "source": [
        "### Bilder generieren"
      ],
      "metadata": {
        "id": "F0Mc1QX9tLiG"
      }
    },
    {
      "cell_type": "code",
      "execution_count": null,
      "metadata": {
        "colab": {
          "background_save": true
        },
        "id": "I6U4EQBI8PH7"
      },
      "outputs": [],
      "source": [
        "# ICOR          #A = a+d / a+b+c+d  element [0,1]   #    P = a+e/a+b+c+d\n",
        "\n",
        "\n",
        "import numpy as np\n",
        "import plotly.graph_objects as plt\n",
        "\n",
        "import math\n",
        "\n",
        "def werte_generator():\n",
        "    liste = []\n",
        "    for a in np.linspace(0, 1, praezision + 1):\n",
        "        for d in np.linspace(0, 1 - a, praezision + 1):\n",
        "            if not(a + d == 1):\n",
        "              e = (1 - a - d) / 2\n",
        "              c = c_anteil * 2 * e\n",
        "              b = (1-c_anteil) * 2 * e\n",
        "              v_agreement = a + d / (a+2*e+d)\n",
        "              v_prevalence = a + e / (a+2*e+d)\n",
        "              v_icor = (a * d) / (e ** 2)\n",
        "              v_pi = (a*d-e**2)/((a+e)*(e+d))\n",
        "              v_kappa = (a*d-b*c) / ((0.5*(a+b)*(b+d) + 0.5*(a+c)*(c+d)))\n",
        "\n",
        "              v_icor_mult_1_min_kap = v_icor*(1-v_kappa)\n",
        "              v_icor_min = (1+v_pi)**2 / (1-v_pi)**2\n",
        "              if not(v_kappa==0):\n",
        "                  v_icor_div_kappa = v_icor / v_kappa\n",
        "              v_pi_minus_kappa = v_pi - v_kappa\n",
        "\n",
        "              liste.append((v_agreement, v_prevalence, v_icor, v_pi, v_kappa, v_icor_min, v_icor_div_kappa, v_pi_minus_kappa, v_icor_mult_1_min_kap))\n",
        "    return liste\n",
        "\n",
        "def plotter(x_werte, y_werte, z_werte, achsenname_x, achsenname_y, achsenname_z, titel, skala_min, skala_max, kappa_vorhanden=0):\n",
        "    global c_anteil\n",
        "    if kappa_vorhanden:\n",
        "        if c_anteil == 1/2:\n",
        "            ein_name = titel + \" (mit c/(b+c) =\" + str(c_anteil) +\",also Kappa=Pi)\"\n",
        "        else:\n",
        "            ein_name = titel + \" (mit c/(b+c) =\" + str(c_anteil) +\")\"\n",
        "    else:\n",
        "        ein_name = titel\n",
        "    new_graphic = plt.Figure(data=[\n",
        "        plt.Scatter3d(x=x_werte, y=y_werte, z=z_werte, mode='markers',\n",
        "                    marker=dict(size=5, color=z_werte, colorscale='Rainbow', colorbar=dict(title=achsenname_z), cmax=skala_max, cmin=skala_min))\n",
        "    ])\n",
        "\n",
        "    new_graphic.update_layout(scene=dict(xaxis_title=achsenname_x, yaxis_title=achsenname_y, zaxis_title=achsenname_z, zaxis=dict(range=[skala_min, skala_max])),\n",
        "                      title=ein_name)\n",
        "\n",
        "    return new_graphic\n",
        "\n",
        "\n",
        "#variable Werte für die Präzision und den c_Anteil\n",
        "praezision = 250     #variable Wert für die Präzision\n",
        "c_anteil = 1/6      #variable Wert für den c_Anteil (beeinflusst kappa; kappa = pi für Wert von 0.5)\n",
        "\n",
        "agreement, prevalence, icor, pi, kappa, icor_min, icor_div_kappa, pi_minus_kappa, icor_mult_1_min_kap = zip(*werte_generator())\n",
        "\n",
        "# füge interaktiv weitere Grafiken über Variablen im Format \"fig_<zahl>\" hinzu\n",
        "# benutze in der plotter()-Funktion die Argumente für plotter(x_werte, y_werte, z_werte, achsenname_x, achsenname_y, achsenname_z, titel, skala_min, skala_max, kappa_vorhanden=0)\n",
        "# mögliche Werte sind: [agreement, prevalence, icor, pi, kappa, icor_min, icor_div_kappa, pi_minus_kappa, icor_mult_1_min_kap]\n",
        "fig_1 = plotter(agreement, prevalence, icor, \"Agreement\", \"Prävalenz\", \"ICOR\", \"ICOR in Abh. von Übereinstimmung und Prävalenz\",0,100)\n",
        "fig_2 = plotter(agreement, prevalence, pi, \"Agreement\", \"Prävalenz\", \"PI\",\"Scotts Pi in Abh. von Übereinstimmung und Prävalenz\",-1,1)\n",
        "fig_3 = plotter(agreement, prevalence, kappa, \"Agreement\", \"Prävalenz\", \"Kappa\",\"Cohens Kappa in Abh. von Übereinstimmung und Prävalenz\",-1,1,1)\n",
        "fig_4 = plotter(agreement, prevalence, icor_min, \"Agreement\", \"Prävalenz\", \"ICOR - ((π+1)²/(π-1)²)\",\"ICOR minus min(ICOR) in Abh. von Übereinstimmung und Prävalenz\",0,1)\n",
        "fig_5 = plotter(agreement, prevalence, icor_div_kappa, \"Agreement\", \"Prävalenz\", \"ICOR/Kappa\",\"ICOR/Kappa in Abh. von Übereinstimmung und Prävalenz\",0,100,1)\n",
        "\n",
        "# Hier zeigt sich, dass für P=0.5 Pi und Kappa gleich sind\n",
        "fig_6 = plotter(agreement, prevalence, pi_minus_kappa, \"Agreement\", \"Prävalenz\", \"Pi-Kappa\",\"Pi minus Kappa in Abh. von Übereinstimmung und Prävalenz\",-1,1,1)\n",
        "fig_7 = plotter(agreement, prevalence, icor_mult_1_min_kap, \"Agreement\", \"Prävalenz\", \"ICOR*(1-Kappa)\",\"ICOR*(1-Kappa) in Abh. von Übereinstimmung und Prävalenz\",0,1,1)\n",
        "fig_8 = plotter(agreement, prevalence, icor_mult_1_min_kap, \"Agreement\", \"Prävalenz\", \"ICOR*(1-Kappa)\",\"ICOR*(1-Kappa) in Abh. von Übereinstimmung und Prävalenz\",0,10,1)\n",
        "fig_9 = plotter(agreement, prevalence, icor_mult_1_min_kap, \"Agreement\", \"Prävalenz\", \"ICOR*(1-Kappa)\",\"ICOR*(1-Kappa) in Abh. von Übereinstimmung und Prävalenz\",0,100,1)\n",
        "\n",
        "# Anzeigen aller Plots\n",
        "neue_liste=[]\n",
        "neue_liste.extend(value for name, value in globals().items() if name.startswith('fig'))\n",
        "\n",
        "for element in neue_liste:\n",
        "    element.show()\n",
        "\n",
        "#optionales abspeichern, erfordert kaleido:\n",
        "#i=0\n",
        "#for element in neue_liste:\n",
        "#    element.write_image(\"scatter_plot\", str(i), \".png\")\n",
        "#    i += 1"
      ]
    },
    {
      "cell_type": "markdown",
      "source": [
        "# Tabellen und ICOR zu KAPPA"
      ],
      "metadata": {
        "id": "l7G-cwI1tZNy"
      }
    },
    {
      "cell_type": "code",
      "execution_count": null,
      "metadata": {
        "colab": {
          "background_save": true
        },
        "id": "49BHK10kDCGD"
      },
      "outputs": [],
      "source": [
        "from tabulate import tabulate\n",
        "import numpy as np\n",
        "import plotly.graph_objects as plt\n",
        "import math\n",
        "\n",
        "def werte_generator(praezision):\n",
        "    liste = []\n",
        "    c_anteile_liste= [1/100, 1/8, 1/6, 1/4,  1/2 ]\n",
        "    for c_anteil in c_anteile_liste:\n",
        "      for a in np.linspace(0, 1, praezision + 1):\n",
        "          for d in np.linspace(0, 1 - a, praezision + 1):\n",
        "              if not(a + d == 1):\n",
        "                e = (1 - a - d) / 2\n",
        "                c = c_anteil * 2 * e\n",
        "                b = (1-c_anteil) * 2 * e\n",
        "                v_agreement = a + d / (a+2*e+d)\n",
        "                v_prevalence = a + e / (a+2*e+d)\n",
        "                v_icor = (a * d) / (e ** 2)\n",
        "                v_pi = (a*d-e**2)/((a+e)*(e+d))\n",
        "                v_kappa = (a*d-b*c) / ((0.5*(a+b)*(b+d) + 0.5*(a+c)*(c+d)))\n",
        "\n",
        "\n",
        "                liste.append((c_anteil,a,b,c,d,e,v_agreement, v_prevalence, v_icor, v_pi, v_kappa))\n",
        "    return liste\n",
        "\n",
        "\n",
        "\n",
        "def plotter(x_werte, y_werte, z_werte, achsenname_x, achsenname_y, achsenname_z, titel, skala_min, skala_max, kappa_vorhanden=0):\n",
        "    global c_anteil\n",
        "    if kappa_vorhanden:\n",
        "        if c_anteil == 1/2:\n",
        "            ein_name = titel + \" (mit c/(b+c) =\" + str(c_anteil) +\",also Kappa=Pi)\"\n",
        "        else:\n",
        "            ein_name = titel + \" (mit c/(b+c) =\" + str(c_anteil) +\")\"\n",
        "    else:\n",
        "        ein_name = titel\n",
        "    new_graphic = plt.Figure(data=[\n",
        "        plt.Scatter3d(x=x_werte, y=y_werte, z=z_werte, mode='markers',\n",
        "                    marker=dict(size=5, color=z_werte, colorscale='Rainbow', colorbar=dict(title=achsenname_z), cmax=skala_max, cmin=skala_min))\n",
        "    ])\n",
        "\n",
        "    new_graphic.update_layout(scene=dict(xaxis_title=achsenname_x, xaxis=dict(range=[0, 100]), yaxis_title=achsenname_y, zaxis_title=achsenname_z, zaxis=dict(range=[-1, 1])))\n",
        "\n",
        "    return new_graphic\n",
        "\n",
        "\n",
        "#variable Werte für die Präzision und den c_Anteil\n",
        "praezision1 = 10     #variabler Wert für die Präzision der Tabelle\n",
        "\n",
        "c_anteil,a,b,c,d,e,agreement, prevalence, icor, pi, kappa = zip(*werte_generator(praezision1))\n",
        "\n",
        "data = zip(c_anteil, icor, pi, kappa)\n",
        "data = sorted(data, key=lambda x: (x[1], x[0]))\n",
        "table1 = tabulate(data, headers=[\"denominator_c\",\"ω\", \" κ\", \"π\"], tablefmt=\"grid\")\n",
        "\n",
        "data2 = zip(c_anteil, icor, pi, kappa,agreement, prevalence)\n",
        "data2 = sorted(data2, key=lambda x: (x[4], x[5], x[1]))\n",
        "table2 = tabulate(data2, headers=[\"denominator_c\",\"ω\", \" κ\", \"π\",\"Agreement\",\"prevalence\"], tablefmt=\"grid\")\n",
        "\n",
        "data3 = zip(c_anteil, icor, pi, kappa,agreement, prevalence, a,b,c,d,e)\n",
        "data3 = sorted(data3, key=lambda x: (x[4], x[5], x[1]))\n",
        "table3 = tabulate(data3, headers=[\"denominator_c\",\"ω\", \" κ\", \"π\",\"Agreement\",\"prevalence\",\"a\",\"b\",\"c\",\"d\",\"e\",], tablefmt=\"grid\")\n",
        "\n",
        "print(table1)\n",
        "print(table2)\n",
        "print(table3)\n",
        "\n",
        "#neuer Abschnitt, welche einen Plot für Kappa und ICOR generiert:\n",
        "praezision2 = 120    #variabler Wert für die Präzision der Grafik\n",
        "\n",
        "c_anteil,a,b,c,d,e,agreement, prevalence, icor, pi, kappa = zip(*werte_generator(praezision2))\n",
        "\n",
        "\n",
        "neue_fig_1 = plotter(icor, c_anteil, kappa, \"icor\", \"denominator_c\", \"kappa\", \"Kappa in Abh. von ICOR und ausgewählten Denominatoren von c\",-1,1)\n",
        "neue_fig_2 = plotter(kappa, c_anteil, icor, \"kappa\", \"denominator_c\", \"ICOR\", \"ICOR in Abh. von Kappa und ausgewählten Denominatoren von c\",-1,1)\n",
        "\n",
        "# Anzeigen aller Plots\n",
        "neue_liste=[]\n",
        "neue_liste.extend(value for name, value in globals().items() if name.startswith('neue_fig'))\n",
        "\n",
        "for element in neue_liste:\n",
        "    element.show()"
      ]
    }
  ],
  "metadata": {
    "colab": {
      "provenance": [],
      "authorship_tag": "ABX9TyMDiuqtkyHeZGHsm3ruxQIC",
      "include_colab_link": true
    },
    "kernelspec": {
      "display_name": "Python 3",
      "name": "python3"
    },
    "language_info": {
      "name": "python"
    }
  },
  "nbformat": 4,
  "nbformat_minor": 0
}